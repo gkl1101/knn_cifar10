{
 "cells": [
  {
   "cell_type": "code",
   "execution_count": 39,
   "id": "c3c8909e",
   "metadata": {},
   "outputs": [],
   "source": [
    "import os\n",
    "import numpy as np\n",
    "from tensorflow.keras import datasets, layers, models\n",
    "from keras.datasets import cifar10\n",
    "\n",
    "(x_train,y_train),(x_test,y_test)=cifar10.load_data()"
   ]
  },
  {
   "cell_type": "code",
   "execution_count": 40,
   "id": "327c439b",
   "metadata": {},
   "outputs": [],
   "source": [
    "Xtr_rows = x_train.reshape(x_train.shape[0], 32*32*3) \n",
    "Xte_rows = x_test.reshape(x_test.shape[0], 32*32*3) "
   ]
  },
  {
   "cell_type": "code",
   "execution_count": 42,
   "id": "d6f57235",
   "metadata": {},
   "outputs": [],
   "source": [
    "class NearestNeighbor(object):\n",
    "    def _init_(self):\n",
    "        pass\n",
    "    def train(self, X, y):\n",
    "        self.x_train = X\n",
    "        self.y_train = y\n",
    "        \n",
    "    def predict(self, X):\n",
    "        num_test = X.shape[0]\n",
    "        Ypred = np.zeros(num_test, dtype=self.y_train.dtype)\n",
    "        \n",
    "        for i in range(num_test):\n",
    "            distances = np.sum(np.abs(self.x_train - X[i,:]),axis=1)\n",
    "            min_index = np.argmin(distances)\n",
    "            Ypred[i] = self.y_train[min_index]  \n",
    "        return Ypred"
   ]
  },
  {
   "cell_type": "code",
   "execution_count": 43,
   "id": "a3fcd97d",
   "metadata": {},
   "outputs": [
    {
     "name": "stdout",
     "output_type": "stream",
     "text": [
      "accuracy: 0.100152\n",
      "accuracy: 0.100152\n",
      "accuracy: 0.100152\n",
      "accuracy: 0.100152\n",
      "accuracy: 0.100152\n",
      "accuracy: 0.100152\n",
      "accuracy: 0.100152\n"
     ]
    }
   ],
   "source": [
    "Xval_rows = Xtr_rows[:5000, :] \n",
    "Yval = y_train[:5000]\n",
    "Xtr_rows = Xtr_rows[5000:, :]\n",
    "Ytr = y_train[5000:]\n",
    "\n",
    "\n",
    "validation_accuracies = []\n",
    "for k in [1, 3, 5, 10, 20, 50, 100]:\n",
    "    nn = NearestNeighbor()\n",
    "    nn.train(Xtr_rows, Ytr)\n",
    "    Yval_predict = nn.predict(Xval_rows)\n",
    "    acc = np.mean(Yval_predict == Yval)\n",
    "    print ('accuracy: %f' % (acc,))\n",
    "    validation_accuracies.append((k, acc))"
   ]
  },
  {
   "cell_type": "code",
   "execution_count": null,
   "id": "97728278",
   "metadata": {},
   "outputs": [],
   "source": []
  },
  {
   "cell_type": "code",
   "execution_count": null,
   "id": "cb64b73b",
   "metadata": {},
   "outputs": [],
   "source": []
  }
 ],
 "metadata": {
  "kernelspec": {
   "display_name": "Python 3 (ipykernel)",
   "language": "python",
   "name": "python3"
  },
  "language_info": {
   "codemirror_mode": {
    "name": "ipython",
    "version": 3
   },
   "file_extension": ".py",
   "mimetype": "text/x-python",
   "name": "python",
   "nbconvert_exporter": "python",
   "pygments_lexer": "ipython3",
   "version": "3.9.7"
  }
 },
 "nbformat": 4,
 "nbformat_minor": 5
}
